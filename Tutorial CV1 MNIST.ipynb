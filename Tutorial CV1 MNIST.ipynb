{
 "cells": [
  {
   "cell_type": "markdown",
   "metadata": {},
   "source": [
    "Primera notebook de una serie de tutoriales sobre Computer Vision.\n",
    "\n",
    "Los modelos serán principalmente construidos desde Keras con CNNs. No van a ser tutoriales muy teóricos.\n",
    "\n",
    "Este notebook abarca:\n",
    "+ [Carga de datasets desde keras](#one).\n",
    "+ [Visualización de imágenes, reshapes correspondientes](#two).\n",
    "+ [Modelo de keras convolucionales](#three).\n",
    "+ Visualización curva de loss.\n",
    "+ [Data augmentacion](#four) con generador de keras.\n",
    "+ Visualización de resultados: [Confusion Matrix, visualización de errores](#five).\n",
    "+ [Interpretación de predicciones](#six)"
   ]
  },
  {
   "cell_type": "markdown",
   "metadata": {},
   "source": [
    "# <font color=\"#9E1B32\">¿Qué puede hacer Computer Vision?\n",
    "<img src=\"./Images/Que es que en CV.png\">"
   ]
  },
  {
   "cell_type": "markdown",
   "metadata": {},
   "source": [
    "Clasificación en CV indica si detectamos lo que estemos buscando o no en la imagen. Puede ser un objeto, un animal, un tumor... \n",
    "+ Puede ser binaria: gato/perro o gato/no gato.\n",
    "+ Puede ser detección de múltiples cosas. Hay modelos que detectan de manera eficaz más de mil objetos distintos.\n",
    "\n",
    "La clasificación puede ser combinada con la localización del objeto. Tanto con un único objeto como múltiples. \n",
    "\n",
    "Otro tipo de detecteción es la segmentación, en la cual en vez de en un cuadrado detectamos los bordes del objeto."
   ]
  },
  {
   "cell_type": "markdown",
   "metadata": {},
   "source": [
    "# <font color=\"#9E1B32\">MNIST"
   ]
  },
  {
   "cell_type": "markdown",
   "metadata": {},
   "source": [
    "Mnist es el \"Hello World\" de Computer Vision. Dígitos escritos a manos de tamaño 28x28 en blanco y negro. El objetivo es clasificarlos con una red neuronal convolucional."
   ]
  },
  {
   "cell_type": "code",
   "execution_count": 1,
   "metadata": {},
   "outputs": [
    {
     "name": "stderr",
     "output_type": "stream",
     "text": [
      "Using TensorFlow backend.\n"
     ]
    }
   ],
   "source": [
    "import pandas as pd\n",
    "import numpy as np\n",
    "import matplotlib.pyplot as plt\n",
    "import matplotlib.image as mpimg\n",
    "import seaborn as sns\n",
    "#Evita que tengamos que preocuparnos de añadir plt.show() en cada celda\n",
    "%matplotlib inline\n",
    "\n",
    "np.random.seed(2) #Semilla para obtener los mismo resultados\n",
    "\n",
    "from sklearn.model_selection import train_test_split\n",
    "from sklearn.metrics import confusion_matrix\n",
    "import itertools\n",
    "\n",
    "import keras\n",
    "from keras.utils.np_utils import to_categorical # convert to one-hot-encoding\n",
    "from keras.models import Sequential\n",
    "from keras.layers import Dense, Dropout, Flatten, Conv2D, MaxPool2D\n",
    "from keras.optimizers import RMSprop\n",
    "from keras.preprocessing.image import ImageDataGenerator\n",
    "from keras.callbacks import ReduceLROnPlateau #Reduce learning rate when a metric has stopped improving.\n",
    "\n",
    "sns.set(style='white', context='notebook', palette='deep')"
   ]
  },
  {
   "cell_type": "markdown",
   "metadata": {},
   "source": [
    "### <font color=\"#9E1B32\">Carga datos <a class=\"anchor\" id=\"one\"></a>"
   ]
  },
  {
   "cell_type": "code",
   "execution_count": 20,
   "metadata": {},
   "outputs": [],
   "source": [
    "from keras.datasets import mnist \n",
    "(x_train, y_train), (x_test, y_test) = mnist.load_data()"
   ]
  },
  {
   "cell_type": "code",
   "execution_count": 29,
   "metadata": {},
   "outputs": [
    {
     "name": "stdout",
     "output_type": "stream",
     "text": [
      "0\n"
     ]
    },
    {
     "data": {
      "text/plain": [
       "<matplotlib.image.AxesImage at 0x173435c5048>"
      ]
     },
     "execution_count": 29,
     "metadata": {},
     "output_type": "execute_result"
    },
    {
     "data": {
      "image/png": "[encoded data removed]",
      "text/plain": [
       "<Figure size 432x288 with 1 Axes>"
      ]
     },
     "metadata": {},
     "output_type": "display_data"
    }
   ],
   "source": [
    "image_index = 21\n",
    "print(y_train[image_index]) \n",
    "plt.imshow(x_train[image_index], cmap='gray')"
   ]
  },
  {
   "cell_type": "code",
   "execution_count": 30,
   "metadata": {
    "scrolled": true
   },
   "outputs": [
    {
     "data": {
      "text/plain": [
       "((60000, 28, 28),\n",
       " (10000, 28, 28),\n",
       " array([[  0,   0,   0,   0,   0,   0,   0,   0,   0,   0,   0,   0,   0,\n",
       "           0,   0,   0,   0,   0,   0,   0,   0,   0,   0,   0,   0,   0,\n",
       "           0,   0],\n",
       "        [  0,   0,   0,   0,   0,   0,   0,   0,   0,   0,   0,   0,   0,\n",
       "           0,   0,   0,   0,   0,   0,   0,   0,   0,   0,   0,   0,   0,\n",
       "           0,   0],\n",
       "        [  0,   0,   0,   0,   0,   0,   0,   0,   0,   0,   0,   0,   0,\n",
       "           0,   0,   0,   0,   0,   0,   0,   0,   0,   0,   0,   0,   0,\n",
       "           0,   0],\n",
       "        [  0,   0,   0,   0,   0,   0,   0,   0,   0,   0,   0,   0,   0,\n",
       "           0,   0,   0,   0,   0,   0,   0,   0,   0,   0,   0,   0,   0,\n",
       "           0,   0],\n",
       "        [  0,   0,   0,   0,   0,   0,   0,   0,   0,   0,   0,   0,   0,\n",
       "           0,   0,   0,   0,   0,   0,   0,   0,   0,   0,   0,   0,   0,\n",
       "           0,   0],\n",
       "        [  0,   0,   0,   0,   0,   0,   0,   0,   0,   0,   0,   0,   3,\n",
       "          18,  18,  18, 126, 136, 175,  26, 166, 255, 247, 127,   0,   0,\n",
       "           0,   0],\n",
       "        [  0,   0,   0,   0,   0,   0,   0,   0,  30,  36,  94, 154, 170,\n",
       "         253, 253, 253, 253, 253, 225, 172, 253, 242, 195,  64,   0,   0,\n",
       "           0,   0],\n",
       "        [  0,   0,   0,   0,   0,   0,   0,  49, 238, 253, 253, 253, 253,\n",
       "         253, 253, 253, 253, 251,  93,  82,  82,  56,  39,   0,   0,   0,\n",
       "           0,   0],\n",
       "        [  0,   0,   0,   0,   0,   0,   0,  18, 219, 253, 253, 253, 253,\n",
       "         253, 198, 182, 247, 241,   0,   0,   0,   0,   0,   0,   0,   0,\n",
       "           0,   0],\n",
       "        [  0,   0,   0,   0,   0,   0,   0,   0,  80, 156, 107, 253, 253,\n",
       "         205,  11,   0,  43, 154,   0,   0,   0,   0,   0,   0,   0,   0,\n",
       "           0,   0],\n",
       "        [  0,   0,   0,   0,   0,   0,   0,   0,   0,  14,   1, 154, 253,\n",
       "          90,   0,   0,   0,   0,   0,   0,   0,   0,   0,   0,   0,   0,\n",
       "           0,   0],\n",
       "        [  0,   0,   0,   0,   0,   0,   0,   0,   0,   0,   0, 139, 253,\n",
       "         190,   2,   0,   0,   0,   0,   0,   0,   0,   0,   0,   0,   0,\n",
       "           0,   0],\n",
       "        [  0,   0,   0,   0,   0,   0,   0,   0,   0,   0,   0,  11, 190,\n",
       "         253,  70,   0,   0,   0,   0,   0,   0,   0,   0,   0,   0,   0,\n",
       "           0,   0],\n",
       "        [  0,   0,   0,   0,   0,   0,   0,   0,   0,   0,   0,   0,  35,\n",
       "         241, 225, 160, 108,   1,   0,   0,   0,   0,   0,   0,   0,   0,\n",
       "           0,   0],\n",
       "        [  0,   0,   0,   0,   0,   0,   0,   0,   0,   0,   0,   0,   0,\n",
       "          81, 240, 253, 253, 119,  25,   0,   0,   0,   0,   0,   0,   0,\n",
       "           0,   0],\n",
       "        [  0,   0,   0,   0,   0,   0,   0,   0,   0,   0,   0,   0,   0,\n",
       "           0,  45, 186, 253, 253, 150,  27,   0,   0,   0,   0,   0,   0,\n",
       "           0,   0],\n",
       "        [  0,   0,   0,   0,   0,   0,   0,   0,   0,   0,   0,   0,   0,\n",
       "           0,   0,  16,  93, 252, 253, 187,   0,   0,   0,   0,   0,   0,\n",
       "           0,   0],\n",
       "        [  0,   0,   0,   0,   0,   0,   0,   0,   0,   0,   0,   0,   0,\n",
       "           0,   0,   0,   0, 249, 253, 249,  64,   0,   0,   0,   0,   0,\n",
       "           0,   0],\n",
       "        [  0,   0,   0,   0,   0,   0,   0,   0,   0,   0,   0,   0,   0,\n",
       "           0,  46, 130, 183, 253, 253, 207,   2,   0,   0,   0,   0,   0,\n",
       "           0,   0],\n",
       "        [  0,   0,   0,   0,   0,   0,   0,   0,   0,   0,   0,   0,  39,\n",
       "         148, 229, 253, 253, 253, 250, 182,   0,   0,   0,   0,   0,   0,\n",
       "           0,   0],\n",
       "        [  0,   0,   0,   0,   0,   0,   0,   0,   0,   0,  24, 114, 221,\n",
       "         253, 253, 253, 253, 201,  78,   0,   0,   0,   0,   0,   0,   0,\n",
       "           0,   0],\n",
       "        [  0,   0,   0,   0,   0,   0,   0,   0,  23,  66, 213, 253, 253,\n",
       "         253, 253, 198,  81,   2,   0,   0,   0,   0,   0,   0,   0,   0,\n",
       "           0,   0],\n",
       "        [  0,   0,   0,   0,   0,   0,  18, 171, 219, 253, 253, 253, 253,\n",
       "         195,  80,   9,   0,   0,   0,   0,   0,   0,   0,   0,   0,   0,\n",
       "           0,   0],\n",
       "        [  0,   0,   0,   0,  55, 172, 226, 253, 253, 253, 253, 244, 133,\n",
       "          11,   0,   0,   0,   0,   0,   0,   0,   0,   0,   0,   0,   0,\n",
       "           0,   0],\n",
       "        [  0,   0,   0,   0, 136, 253, 253, 253, 212, 135, 132,  16,   0,\n",
       "           0,   0,   0,   0,   0,   0,   0,   0,   0,   0,   0,   0,   0,\n",
       "           0,   0],\n",
       "        [  0,   0,   0,   0,   0,   0,   0,   0,   0,   0,   0,   0,   0,\n",
       "           0,   0,   0,   0,   0,   0,   0,   0,   0,   0,   0,   0,   0,\n",
       "           0,   0],\n",
       "        [  0,   0,   0,   0,   0,   0,   0,   0,   0,   0,   0,   0,   0,\n",
       "           0,   0,   0,   0,   0,   0,   0,   0,   0,   0,   0,   0,   0,\n",
       "           0,   0],\n",
       "        [  0,   0,   0,   0,   0,   0,   0,   0,   0,   0,   0,   0,   0,\n",
       "           0,   0,   0,   0,   0,   0,   0,   0,   0,   0,   0,   0,   0,\n",
       "           0,   0]], dtype=uint8))"
      ]
     },
     "execution_count": 30,
     "metadata": {},
     "output_type": "execute_result"
    }
   ],
   "source": [
    "x_train.shape, x_test.shape, x_train[0]"
   ]
  },
  {
   "cell_type": "markdown",
   "metadata": {},
   "source": [
    "Los datos son enteros entre 0, 255. Necesitamos reescalarlos."
   ]
  },
  {
   "cell_type": "markdown",
   "metadata": {},
   "source": [
    "### <font color=\"#9E1B32\">Resizes <a class=\"anchor\" id=\"two\"></a>"
   ]
  },
  {
   "cell_type": "code",
   "execution_count": 32,
   "metadata": {},
   "outputs": [
    {
     "name": "stdout",
     "output_type": "stream",
     "text": [
      "x_train shape: (60000, 28, 28, 1)\n",
      "Número de imágenes en x_train 60000\n",
      "Número de imágenes en x_test 10000\n"
     ]
    }
   ],
   "source": [
    "# Necesitamos añadir una cuarta dimension para que funcione bien con keras.\n",
    "#RGB imágenes, tienen 3 canales, hubiésemos hecho reshape a 28x28x3.\n",
    "x_train = x_train.reshape(x_train.shape[0], 28, 28, 1)\n",
    "x_test = x_test.reshape(x_test.shape[0], 28, 28, 1)\n",
    "input_shape = (28, 28, 1)\n",
    "# Lo pasamos a decimales para evitar problemas al dividir  \n",
    "x_train = x_train.astype('float32')\n",
    "x_test = x_test.astype('float32')\n",
    "# Dividimos entre el máximo valor de un pixel.\n",
    "x_train /= 255\n",
    "x_test /= 255\n",
    "print('x_train shape:', x_train.shape)\n",
    "print('Número de imágenes en x_train', x_train.shape[0])\n",
    "print('Número de imágenes en x_test', x_test.shape[0])"
   ]
  },
  {
   "cell_type": "markdown",
   "metadata": {},
   "source": [
    "Las clases están balanceadas"
   ]
  },
  {
   "cell_type": "code",
   "execution_count": 37,
   "metadata": {},
   "outputs": [
    {
     "data": {
      "text/plain": [
       "<matplotlib.axes._subplots.AxesSubplot at 0x17343a9ee10>"
      ]
     },
     "execution_count": 37,
     "metadata": {},
     "output_type": "execute_result"
    },
    {
     "data": {
      "image/png": "[encoded data removed]",
      "text/plain": [
       "<Figure size 432x288 with 1 Axes>"
      ]
     },
     "metadata": {},
     "output_type": "display_data"
    }
   ],
   "source": [
    "sns.countplot(y_train)"
   ]
  },
  {
   "cell_type": "markdown",
   "metadata": {},
   "source": [
    "## <font color=\"#9E1B32\">One hot encoding"
   ]
  },
  {
   "cell_type": "code",
   "execution_count": 41,
   "metadata": {},
   "outputs": [],
   "source": [
    "y_train = to_categorical(y_train, num_classes = 10)\n",
    "y_test = to_categorical(y_test, num_classes = 10)"
   ]
  },
  {
   "cell_type": "markdown",
   "metadata": {},
   "source": [
    "# <font color=\"#9E1B32\">Modelo  <a class=\"anchor\" id=\"three\"></a>"
   ]
  },
  {
   "cell_type": "markdown",
   "metadata": {},
   "source": [
    "En este ejemplo no vamos a usar Validation Set.\n",
    "\n",
    "Veamos dos modelos. El primero una red neuronal usando Sequential de Keras. Consiste en 2 capas convolucionales con max pooling y dropout."
   ]
  },
  {
   "cell_type": "code",
   "execution_count": 56,
   "metadata": {},
   "outputs": [],
   "source": [
    "from keras.models import Sequential\n",
    "from keras.layers import Dense, Conv2D, Dropout, Flatten, MaxPooling2D\n",
    "\n",
    "input_shape = (28,28,1)\n",
    "\n",
    "model = Sequential()\n",
    "\n",
    "model.add(Conv2D(filters = 28, kernel_size = (5,5), input_shape = input_shape, activation ='relu'))\n",
    "\n",
    "model.add(MaxPooling2D(pool_size=(2, 2)))\n",
    "\n",
    "model.add(Conv2D(filters = 28, kernel_size = (3,3), input_shape = input_shape, activation ='relu'))\n",
    "\n",
    "model.add(MaxPooling2D(pool_size = (2, 2)))\n",
    " \n",
    "model.add(Flatten()) #necesitamos pasarlo los datos a un vector de 1 dimesioón antes de ir a una capa densa.\n",
    "\n",
    "model.add(Dense(128, activation = 'relu'))\n",
    "\n",
    "model.add(Dropout(0.2))\n",
    "\n",
    "model.add(Dense(10,activation = 'softmax'))\n",
    "\n",
    "model.compile(optimizer='adam', \n",
    "              loss='categorical_crossentropy', \n",
    "              metrics=['accuracy'])\n"
   ]
  },
  {
   "cell_type": "code",
   "execution_count": 57,
   "metadata": {},
   "outputs": [],
   "source": [
    "class LossHistory(keras.callbacks.Callback):\n",
    "    def on_train_begin(self, logs={}):\n",
    "        self.losses = []\n",
    "\n",
    "    def on_batch_end(self, batch, logs={}):\n",
    "        self.losses.append(logs.get('loss'))\n",
    "        \n",
    "hcall = LossHistory()"
   ]
  },
  {
   "cell_type": "code",
   "execution_count": 58,
   "metadata": {},
   "outputs": [
    {
     "name": "stdout",
     "output_type": "stream",
     "text": [
      "Epoch 1/20\n",
      "60000/60000 [==============================] - 27s 449us/step - loss: 1.2812 - acc: 0.5895\n",
      "Epoch 2/20\n",
      "60000/60000 [==============================] - 26s 433us/step - loss: 0.4438 - acc: 0.8614\n",
      "Epoch 3/20\n",
      "60000/60000 [==============================] - 27s 458us/step - loss: 0.3400 - acc: 0.8936\n",
      "Epoch 4/20\n",
      "60000/60000 [==============================] - 27s 447us/step - loss: 0.2782 - acc: 0.9137\n",
      "Epoch 5/20\n",
      "60000/60000 [==============================] - 27s 450us/step - loss: 0.2316 - acc: 0.9284\n",
      "Epoch 6/20\n",
      "60000/60000 [==============================] - 26s 438us/step - loss: 0.1995 - acc: 0.9382\n",
      "Epoch 7/20\n",
      "60000/60000 [==============================] - 26s 434us/step - loss: 0.1763 - acc: 0.9452\n",
      "Epoch 8/20\n",
      "60000/60000 [==============================] - 26s 435us/step - loss: 0.1563 - acc: 0.9516\n",
      "Epoch 9/20\n",
      "60000/60000 [==============================] - 26s 438us/step - loss: 0.1401 - acc: 0.9564\n",
      "Epoch 10/20\n",
      "60000/60000 [==============================] - 26s 438us/step - loss: 0.1284 - acc: 0.9604\n",
      "Epoch 11/20\n",
      "60000/60000 [==============================] - 26s 436us/step - loss: 0.1180 - acc: 0.9636\n",
      "Epoch 12/20\n",
      "60000/60000 [==============================] - 26s 431us/step - loss: 0.1098 - acc: 0.9659\n",
      "Epoch 13/20\n",
      "60000/60000 [==============================] - 26s 435us/step - loss: 0.1016 - acc: 0.9682\n",
      "Epoch 14/20\n",
      "60000/60000 [==============================] - 26s 436us/step - loss: 0.0957 - acc: 0.9706\n",
      "Epoch 15/20\n",
      "60000/60000 [==============================] - 26s 437us/step - loss: 0.0883 - acc: 0.9726\n",
      "Epoch 16/20\n",
      "60000/60000 [==============================] - 26s 432us/step - loss: 0.0830 - acc: 0.9749\n",
      "Epoch 17/20\n",
      "60000/60000 [==============================] - 26s 433us/step - loss: 0.0781 - acc: 0.9761\n",
      "Epoch 18/20\n",
      "60000/60000 [==============================] - 26s 437us/step - loss: 0.0749 - acc: 0.9769\n",
      "Epoch 19/20\n",
      "60000/60000 [==============================] - 26s 433us/step - loss: 0.0706 - acc: 0.9784\n",
      "Epoch 20/20\n",
      "60000/60000 [==============================] - 26s 438us/step - loss: 0.0657 - acc: 0.9801\n"
     ]
    },
    {
     "data": {
      "text/plain": [
       "<keras.callbacks.History at 0x17343a8deb8>"
      ]
     },
     "execution_count": 58,
     "metadata": {},
     "output_type": "execute_result"
    }
   ],
   "source": [
    "model.fit(x=x_train,y=y_train, batch_size=256, epochs=20,callbacks=[hcall],verbose=1)"
   ]
  },
  {
   "cell_type": "markdown",
   "metadata": {},
   "source": [
    "Obtenemos un Accuracy muy elevado tanto en train como en test."
   ]
  },
  {
   "cell_type": "code",
   "execution_count": 59,
   "metadata": {},
   "outputs": [
    {
     "name": "stdout",
     "output_type": "stream",
     "text": [
      "60000/60000 [==============================] - 9s 158us/step\n",
      "10000/10000 [==============================] - 2s 153us/step\n"
     ]
    },
    {
     "data": {
      "text/plain": [
       "([0.047177124196259926, 0.9855666666666667], [0.050602179957320914, 0.9842])"
      ]
     },
     "execution_count": 59,
     "metadata": {},
     "output_type": "execute_result"
    }
   ],
   "source": [
    "model.evaluate(x_train, y_train), model.evaluate(x_test, y_test)"
   ]
  },
  {
   "cell_type": "code",
   "execution_count": 60,
   "metadata": {},
   "outputs": [
    {
     "data": {
      "image/png": "[encoded data removed]",
      "text/plain": [
       "<Figure size 432x288 with 1 Axes>"
      ]
     },
     "metadata": {},
     "output_type": "display_data"
    }
   ],
   "source": [
    "plt.plot(hcall.losses)\n",
    "plt.show()"
   ]
  },
  {
   "cell_type": "code",
   "execution_count": 69,
   "metadata": {},
   "outputs": [
    {
     "name": "stdout",
     "output_type": "stream",
     "text": [
      "Se equivoca 158 veces.\n"
     ]
    }
   ],
   "source": [
    "preds=model.predict_classes(x_test)\n",
    "A=[i for i in range(len(y_test)) if np.argmax(y_test, axis=1)[i]!=preds[i]]\n",
    "print(\"Se equivoca\",len(A),\"veces.\")"
   ]
  },
  {
   "cell_type": "code",
   "execution_count": 61,
   "metadata": {},
   "outputs": [
    {
     "name": "stdout",
     "output_type": "stream",
     "text": [
      "3\n"
     ]
    },
    {
     "data": {
      "image/png": "[encoded data removed]",
      "text/plain": [
       "<Figure size 432x288 with 1 Axes>"
      ]
     },
     "metadata": {},
     "output_type": "display_data"
    }
   ],
   "source": [
    "image_index = np.random.randint(0,10000)\n",
    "plt.imshow(x_test[image_index].reshape(28, 28),cmap='Greys')\n",
    "pred = model.predict(x_test[image_index].reshape(1, 28, 28, 1))\n",
    "print(pred.argmax())"
   ]
  },
  {
   "cell_type": "markdown",
   "metadata": {},
   "source": [
    "# <font color=\"#9E1B32\">Data Augmentacion <a class=\"anchor\" id=\"four\"></a>"
   ]
  },
  {
   "cell_type": "markdown",
   "metadata": {},
   "source": [
    "Vamos a aplicar data augmentacion a nuestros datos y a incluir una reducción de learning rate según la mejora de accuracy se reduce."
   ]
  },
  {
   "cell_type": "markdown",
   "metadata": {},
   "source": [
    "Para realizar data augmentacion vamos a usar un iterador de keras. En el siguiente ejemplo vamos a girar 10 grados al azar las imágenes, cambiar el rango de anchura y altura, y aplicar zoom.\n",
    "\n",
    "Esto solo debe ser entrenado en el train. Las transformaciones siempre se entrenan únicamente en el train."
   ]
  },
  {
   "cell_type": "code",
   "execution_count": 82,
   "metadata": {},
   "outputs": [],
   "source": [
    "#Mismo modelo\n",
    "from keras.models import Sequential\n",
    "from keras.layers import Dense, Conv2D, Dropout, Flatten, MaxPooling2D\n",
    "\n",
    "input_shape = (28,28,1)\n",
    "\n",
    "model = Sequential()\n",
    "\n",
    "model.add(Conv2D(filters = 28, kernel_size = (5,5), input_shape = input_shape, activation ='relu'))\n",
    "\n",
    "model.add(MaxPooling2D(pool_size=(2, 2)))\n",
    "\n",
    "model.add(Conv2D(filters = 28, kernel_size = (3,3), input_shape = input_shape, activation ='relu'))\n",
    "\n",
    "model.add(MaxPooling2D(pool_size = (2, 2)))\n",
    " \n",
    "model.add(Flatten()) #necesitamos pasarlo los datos a un vector de 1 dimesioón antes de ir a una capa densa.\n",
    "\n",
    "model.add(Dense(128, activation = 'relu'))\n",
    "\n",
    "model.add(Dropout(0.2))\n",
    "\n",
    "model.add(Dense(10,activation = 'softmax'))\n",
    "\n",
    "model.compile(optimizer='adam', \n",
    "              loss='categorical_crossentropy', \n",
    "              metrics=['accuracy'])"
   ]
  },
  {
   "cell_type": "code",
   "execution_count": 2,
   "metadata": {},
   "outputs": [],
   "source": [
    "datagen = ImageDataGenerator(\n",
    "        featurewise_center=False,  # set input mean to 0 over the dataset\n",
    "        samplewise_center=False,  # set each sample mean to 0\n",
    "        featurewise_std_normalization=False,  # divide inputs by std of the dataset\n",
    "        samplewise_std_normalization=False,  # divide each input by its std\n",
    "        zca_whitening=False,  # apply ZCA whitening\n",
    "        rotation_range=10,  # randomly rotate images in the range (degrees, 0 to 180)\n",
    "        zoom_range = 0.1, # Randomly zoom image \n",
    "        width_shift_range=0.1,  # randomly shift images horizontally (fraction of total width)\n",
    "        height_shift_range=0.1,  # randomly shift images vertically (fraction of total height)\n",
    "        horizontal_flip=False,  # randomly flip images\n",
    "        vertical_flip=False)  # randomly flip images\n",
    "\n",
    "datagen.fit(x_train)"
   ]
  },
  {
   "cell_type": "markdown",
   "metadata": {},
   "source": [
    "Aquí aplicamos que el learning rate decaiga por un factor de 0.5 cada 3 \"entrenamientos\" que el accuracy no mejore."
   ]
  },
  {
   "cell_type": "code",
   "execution_count": 84,
   "metadata": {},
   "outputs": [],
   "source": [
    "learning_rate_reduction = ReduceLROnPlateau(monitor='loss',patience=3, verbose=1, factor=0.5, min_lr=0.00001)"
   ]
  },
  {
   "cell_type": "code",
   "execution_count": 85,
   "metadata": {},
   "outputs": [
    {
     "name": "stdout",
     "output_type": "stream",
     "text": [
      "Epoch 1/20\n",
      "234/234 [==============================] - 32s 138ms/step - loss: 1.9235 - acc: 0.3164\n",
      "Epoch 2/20\n",
      "234/234 [==============================] - 37s 159ms/step - loss: 1.1639 - acc: 0.6112\n",
      "Epoch 3/20\n",
      "234/234 [==============================] - 36s 155ms/step - loss: 0.9469 - acc: 0.6899\n",
      "Epoch 4/20\n",
      "234/234 [==============================] - 36s 155ms/step - loss: 0.7620 - acc: 0.7560\n",
      "Epoch 5/20\n",
      "234/234 [==============================] - 41s 175ms/step - loss: 0.6413 - acc: 0.7965\n",
      "Epoch 6/20\n",
      "234/234 [==============================] - 39s 165ms/step - loss: 0.5598 - acc: 0.8239\n",
      "Epoch 7/20\n",
      "234/234 [==============================] - 39s 167ms/step - loss: 0.4930 - acc: 0.8449\n",
      "Epoch 8/20\n",
      "234/234 [==============================] - 37s 160ms/step - loss: 0.4435 - acc: 0.8635\n",
      "Epoch 9/20\n",
      "234/234 [==============================] - 37s 156ms/step - loss: 0.4040 - acc: 0.8738\n",
      "Epoch 10/20\n",
      "234/234 [==============================] - 40s 172ms/step - loss: 0.3709 - acc: 0.88574s\n",
      "Epoch 11/20\n",
      "234/234 [==============================] - 37s 157ms/step - loss: 0.3430 - acc: 0.8948\n",
      "Epoch 12/20\n",
      "234/234 [==============================] - 38s 161ms/step - loss: 0.3199 - acc: 0.9024\n",
      "Epoch 13/20\n",
      "234/234 [==============================] - 42s 178ms/step - loss: 0.3061 - acc: 0.9058\n",
      "Epoch 14/20\n",
      "234/234 [==============================] - 39s 167ms/step - loss: 0.2936 - acc: 0.9077\n",
      "Epoch 15/20\n",
      "234/234 [==============================] - 39s 166ms/step - loss: 0.2730 - acc: 0.9162\n",
      "Epoch 16/20\n",
      "234/234 [==============================] - 37s 159ms/step - loss: 0.2659 - acc: 0.9180\n",
      "Epoch 17/20\n",
      "234/234 [==============================] - 38s 162ms/step - loss: 0.2562 - acc: 0.9208\n",
      "Epoch 18/20\n",
      "234/234 [==============================] - 37s 160ms/step - loss: 0.2453 - acc: 0.9241\n",
      "Epoch 19/20\n",
      "234/234 [==============================] - 38s 164ms/step - loss: 0.2427 - acc: 0.9252\n",
      "Epoch 20/20\n",
      "234/234 [==============================] - 40s 173ms/step - loss: 0.2304 - acc: 0.9284\n",
      "Wall time: 12min 41s\n"
     ]
    }
   ],
   "source": [
    "%%time\n",
    "# Entrenamos a la vez que realizamos el data augmentacion:\n",
    "history = model.fit_generator(datagen.flow(x_train,y_train, batch_size=256),\n",
    "                              epochs = 20,\n",
    "                              verbose = 1, steps_per_epoch = x_train.shape[0] // 256,\n",
    "                              callbacks=[learning_rate_reduction])"
   ]
  },
  {
   "cell_type": "code",
   "execution_count": 90,
   "metadata": {},
   "outputs": [
    {
     "name": "stdout",
     "output_type": "stream",
     "text": [
      "60000/60000 [==============================] - 12s 195us/step\n",
      "10000/10000 [==============================] - 2s 209us/step\n"
     ]
    },
    {
     "data": {
      "text/plain": [
       "([0.10093779490279654, 0.96915], [0.09219856505542993, 0.9717])"
      ]
     },
     "execution_count": 90,
     "metadata": {},
     "output_type": "execute_result"
    }
   ],
   "source": [
    "model.evaluate(x_train, y_train), model.evaluate(x_test, y_test)"
   ]
  },
  {
   "cell_type": "code",
   "execution_count": 91,
   "metadata": {},
   "outputs": [
    {
     "name": "stdout",
     "output_type": "stream",
     "text": [
      "Se equivoca 283 veces.\n"
     ]
    }
   ],
   "source": [
    "preds=model.predict_classes(x_test)\n",
    "A=[i for i in range(len(y_test)) if np.argmax(y_test, axis=1)[i]!=preds[i]]\n",
    "print(\"Se equivoca\",len(A),\"veces.\")"
   ]
  },
  {
   "cell_type": "markdown",
   "metadata": {},
   "source": [
    "## <font color=\"#9E1B32\">Confusion matrix  <a class=\"anchor\" id=\"five\"></a>\n",
    "    \n",
    "Veamos en que números/clases está fallando nuestro modelo. Para ello miramos la matriz de confusión y nos centramos en ver entre que clases hay mayor \"confusión\"."
   ]
  },
  {
   "cell_type": "code",
   "execution_count": 92,
   "metadata": {},
   "outputs": [],
   "source": [
    "def plot_confusion_matrix(cm, classes,\n",
    "                          normalize=False,\n",
    "                          title='Confusion matrix',\n",
    "                          cmap=plt.cm.Blues):\n",
    "    \"\"\"\n",
    "    This function prints and plots the confusion matrix.\n",
    "    Normalization can be applied by setting `normalize=True`.\n",
    "    \"\"\"\n",
    "    plt.imshow(cm, interpolation='nearest', cmap=cmap)\n",
    "    plt.title(title)\n",
    "    plt.colorbar()\n",
    "    tick_marks = np.arange(len(classes))\n",
    "    plt.xticks(tick_marks, classes, rotation=45)\n",
    "    plt.yticks(tick_marks, classes)\n",
    "\n",
    "    if normalize:\n",
    "        cm = cm.astype('float') / cm.sum(axis=1)[:, np.newaxis]\n",
    "\n",
    "    thresh = cm.max() / 2.\n",
    "    for i, j in itertools.product(range(cm.shape[0]), range(cm.shape[1])):\n",
    "        plt.text(j, i, cm[i, j],\n",
    "                 horizontalalignment=\"center\",\n",
    "                 color=\"white\" if cm[i, j] > thresh else \"black\")\n",
    "\n",
    "    plt.tight_layout()\n",
    "    plt.ylabel('True label')\n",
    "    plt.xlabel('Predicted label')"
   ]
  },
  {
   "cell_type": "code",
   "execution_count": 93,
   "metadata": {},
   "outputs": [
    {
     "data": {
      "image/png": "[encoded data removed]",
      "text/plain": [
       "<Figure size 432x288 with 2 Axes>"
      ]
     },
     "metadata": {},
     "output_type": "display_data"
    }
   ],
   "source": [
    "Y_pred = model.predict(x_test)\n",
    "Y_pred_classes = np.argmax(Y_pred,axis = 1) \n",
    "Y_true = np.argmax(y_test,axis = 1) \n",
    "confusion_mtx = confusion_matrix(Y_true, Y_pred_classes) \n",
    "plot_confusion_matrix(confusion_mtx, classes = range(10)) "
   ]
  },
  {
   "cell_type": "markdown",
   "metadata": {},
   "source": [
    "Vemos que el modelo confunde los 9 con los 4 y los 3 principalmente"
   ]
  },
  {
   "cell_type": "markdown",
   "metadata": {},
   "source": [
    "# <font color=\"#9E1B32\">Ver algunos errores"
   ]
  },
  {
   "cell_type": "code",
   "execution_count": 94,
   "metadata": {},
   "outputs": [],
   "source": [
    "errors = (Y_pred_classes - Y_true != 0)\n",
    "Y_pred_classes_errors = Y_pred_classes[errors]\n",
    "Y_pred_errors = Y_pred[errors]\n",
    "Y_true_errors = Y_true[errors]\n",
    "x_test_errors = x_test[errors]"
   ]
  },
  {
   "cell_type": "code",
   "execution_count": 109,
   "metadata": {},
   "outputs": [],
   "source": [
    "def display_errors(errors_index,img_errors,pred_errors, obs_errors):\n",
    "    \"\"\" This function shows 6 images with their predicted and real labels\"\"\"\n",
    "    n = 0\n",
    "    nrows = 2\n",
    "    ncols = 3\n",
    "    fig, ax = plt.subplots(nrows,ncols,sharex=True,sharey=True,figsize=(12,8))\n",
    "    for row in range(nrows):\n",
    "        for col in range(ncols):\n",
    "            error = errors_index[n]\n",
    "            ax[row,col].imshow((img_errors[error]).reshape((28,28)),cmap='Greys')\n",
    "            ax[row,col].set_title(\"El número predicho es :{}\\nEl número real es :{}\".format(pred_errors[error],obs_errors[error]))\n",
    "            n += 1"
   ]
  },
  {
   "cell_type": "code",
   "execution_count": 110,
   "metadata": {},
   "outputs": [
    {
     "data": {
      "image/png": "[encoded data removed]",
      "text/plain": [
       "<Figure size 864x576 with 6 Axes>"
      ]
     },
     "metadata": {},
     "output_type": "display_data"
    }
   ],
   "source": [
    "Y_pred_errors_prob = np.max(Y_pred_errors,axis = 1)\n",
    "true_prob_errors = np.diagonal(np.take(Y_pred_errors, Y_true_errors, axis=1))\n",
    "delta_pred_true_errors = Y_pred_errors_prob - true_prob_errors\n",
    "sorted_delta_errors = np.argsort(delta_pred_true_errors)\n",
    "# Top 6 errores \n",
    "most_important_errors = sorted_delta_errors[-6:]\n",
    "# Show the top 6 errores\n",
    "display_errors(most_important_errors, x_test_errors, Y_pred_classes_errors, Y_true_errors)"
   ]
  },
  {
   "cell_type": "markdown",
   "metadata": {},
   "source": [
    "# <font color=\"#9E1B32\"><font color=\"#9E1B32\">Shap. Model interpretability <a class=\"anchor\" id=\"six\"></a>"
   ]
  },
  {
   "cell_type": "markdown",
   "metadata": {},
   "source": [
    "https://github.com/slundberg/shap"
   ]
  },
  {
   "cell_type": "markdown",
   "metadata": {},
   "source": [
    "Interpretabilidad mediante los shap values. Estos marcarán, en la clase correspondiente, si cada pixel está ayudando o no a que la predicción sea esa clase. \n",
    "+ En rojo se marcan los pixeles con shap values positivos, implica que la probabilidad de que la predicción de esa clase sea mayor. Se marcan más las zonas que determinan la predicción final. \n",
    "+ En azul indica que los shap values son negativos. Esto es que estos píxeles hacen que la probabilidad de la predicción sea baja.  "
   ]
  },
  {
   "cell_type": "code",
   "execution_count": 116,
   "metadata": {},
   "outputs": [
    {
     "data": {
      "image/png": "[encoded data removed]",
      "text/plain": [
       "<Figure size 1440x545.455 with 45 Axes>"
      ]
     },
     "metadata": {},
     "output_type": "display_data"
    }
   ],
   "source": [
    "import shap\n",
    "# select a set of background examples to take an expectation over. Elegimos 100\n",
    "background = x_train[np.random.choice(x_train.shape[0], 100, replace=False)]\n",
    "\n",
    "# explain predictions of the model on four images\n",
    "e = shap.DeepExplainer(model, background)\n",
    "shap_values = e.shap_values(x_test[1:5])\n",
    "\n",
    "# plot the feature attributions\n",
    "shap.image_plot(shap_values, -x_test[1:5])"
   ]
  },
  {
   "cell_type": "markdown",
   "metadata": {},
   "source": [
    "Observamos que el número 'dos' tiene zonas que indican que podria ser el número tres, pero otras zonas en azul niegan esa predicción. El número 4 tiene zonas de confusión con el 9. Pero los pixeles en blanco del cierre de arriba shap los pone en azul. Luego la clasificación final es un 4"
   ]
  }
 ],
 "metadata": {
  "kernelspec": {
   "display_name": "Python 3",
   "language": "python",
   "name": "python3"
  },
  "language_info": {
   "codemirror_mode": {
    "name": "ipython",
    "version": 3
   },
   "file_extension": ".py",
   "mimetype": "text/x-python",
   "name": "python",
   "nbconvert_exporter": "python",
   "pygments_lexer": "ipython3",
   "version": "3.6.8"
  }
 },
 "nbformat": 4,
 "nbformat_minor": 2
}
